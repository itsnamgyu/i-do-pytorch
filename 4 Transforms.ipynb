{
 "cells": [
  {
   "cell_type": "code",
   "execution_count": 16,
   "id": "victorian-theme",
   "metadata": {},
   "outputs": [],
   "source": [
    "import torch\n",
    "import pandas as pd\n",
    "import numpy as np\n",
    "\n",
    "from torchvision import datasets\n",
    "from torch.utils.data import DataLoader\n",
    "from torchvision.transforms import ToTensor, Lambda"
   ]
  },
  {
   "cell_type": "markdown",
   "id": "forward-catalyst",
   "metadata": {},
   "source": [
    "### Notes\n",
    "\n",
    "- ToTensor: converts PIL.Image or np.ndarray into torch.tensor! (wow)\n",
    "- Lambda: lambda! (you can do stuff like one-hot as below)\n",
    "\n",
    "- Note that these functions in the data loading pipeline do not need autograd,\n",
    "  but they would ought to be parallelizable.\n",
    "  - Q. Are they?"
   ]
  },
  {
   "cell_type": "code",
   "execution_count": 8,
   "id": "informal-quebec",
   "metadata": {},
   "outputs": [
    {
     "data": {
      "text/plain": [
       "(tensor([0., 1., 0., 0., 0., 0., 0., 0., 0., 0.]),\n",
       " tensor([0., 0., 1., 0., 0., 0., 0., 0., 0., 0.]),\n",
       " tensor([0., 0., 0., 1., 0., 0., 0., 0., 0., 0.]))"
      ]
     },
     "execution_count": 8,
     "metadata": {},
     "output_type": "execute_result"
    }
   ],
   "source": [
    "one_hot = lambda y: torch.zeros(10).float().scatter_(0, torch.tensor(y), value=1)\n",
    "one_hot(1), one_hot(2), one_hot(3)"
   ]
  },
  {
   "cell_type": "code",
   "execution_count": 11,
   "id": "suspended-puzzle",
   "metadata": {},
   "outputs": [],
   "source": [
    "train_ds = datasets.FashionMNIST(\n",
    "    root=\"data\",\n",
    "    train=True,\n",
    "    download=True,\n",
    "    transform=ToTensor(),\n",
    "    target_transform=Lambda(one_hot),\n",
    ")"
   ]
  },
  {
   "cell_type": "code",
   "execution_count": 14,
   "id": "traditional-payroll",
   "metadata": {},
   "outputs": [
    {
     "data": {
      "text/plain": [
       "torch.Size([1, 28, 28])"
      ]
     },
     "execution_count": 14,
     "metadata": {},
     "output_type": "execute_result"
    }
   ],
   "source": [
    "next(iter(train_ds))[0].shape"
   ]
  },
  {
   "cell_type": "code",
   "execution_count": 15,
   "id": "confirmed-employment",
   "metadata": {},
   "outputs": [
    {
     "data": {
      "text/plain": [
       "torch.Size([10])"
      ]
     },
     "execution_count": 15,
     "metadata": {},
     "output_type": "execute_result"
    }
   ],
   "source": [
    "next(iter(train_ds))[1].shape"
   ]
  },
  {
   "cell_type": "code",
   "execution_count": 18,
   "id": "functioning-basketball",
   "metadata": {},
   "outputs": [],
   "source": [
    "train_loader = DataLoader(train_ds, batch_size=64)"
   ]
  },
  {
   "cell_type": "markdown",
   "id": "maritime-polymer",
   "metadata": {},
   "source": [
    "### End of Tutorial\n",
    "\n",
    "Well that was short..."
   ]
  }
 ],
 "metadata": {
  "kernelspec": {
   "display_name": "Python 3",
   "language": "python",
   "name": "python3"
  },
  "language_info": {
   "codemirror_mode": {
    "name": "ipython",
    "version": 3
   },
   "file_extension": ".py",
   "mimetype": "text/x-python",
   "name": "python",
   "nbconvert_exporter": "python",
   "pygments_lexer": "ipython3",
   "version": "3.7.3"
  }
 },
 "nbformat": 4,
 "nbformat_minor": 5
}
