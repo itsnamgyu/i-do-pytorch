{
 "cells": [
  {
   "cell_type": "code",
   "execution_count": 1,
   "id": "activated-detroit",
   "metadata": {},
   "outputs": [],
   "source": [
    "import torch\n",
    "import numpy as np\n",
    "import pandas as pd\n",
    "import matplotlib as mpl\n",
    "import matplotlib.pyplot as plt"
   ]
  },
  {
   "cell_type": "code",
   "execution_count": 5,
   "id": "stunning-student",
   "metadata": {},
   "outputs": [
    {
     "data": {
      "text/plain": [
       "tensor([[1, 2],\n",
       "        [3, 4]])"
      ]
     },
     "execution_count": 5,
     "metadata": {},
     "output_type": "execute_result"
    }
   ],
   "source": [
    "data = [[1, 2], [3, 4]]\n",
    "x_data = torch.tensor(data)\n",
    "x_data"
   ]
  },
  {
   "cell_type": "code",
   "execution_count": 6,
   "id": "worth-ghost",
   "metadata": {},
   "outputs": [
    {
     "data": {
      "text/plain": [
       "tensor([[1, 2],\n",
       "        [3, 4]])"
      ]
     },
     "execution_count": 6,
     "metadata": {},
     "output_type": "execute_result"
    }
   ],
   "source": [
    "np_array = np.array(data)\n",
    "x_np = torch.from_numpy(np_array)\n",
    "x_np"
   ]
  },
  {
   "cell_type": "code",
   "execution_count": 8,
   "id": "honest-scanner",
   "metadata": {},
   "outputs": [
    {
     "data": {
      "text/plain": [
       "tensor([[1, 1],\n",
       "        [1, 1]])"
      ]
     },
     "execution_count": 8,
     "metadata": {},
     "output_type": "execute_result"
    }
   ],
   "source": [
    "x_ones = torch.ones_like(x_data)\n",
    "x_ones"
   ]
  },
  {
   "cell_type": "code",
   "execution_count": 14,
   "id": "existing-queue",
   "metadata": {},
   "outputs": [
    {
     "data": {
      "text/plain": [
       "tensor([[0.4282, 0.4909],\n",
       "        [0.7506, 0.5256]])"
      ]
     },
     "execution_count": 14,
     "metadata": {},
     "output_type": "execute_result"
    }
   ],
   "source": [
    "x_ones = torch.rand_like(x_data, dtype=torch.float)\n",
    "x_ones = torch.rand_like(x_data.float())\n",
    "x_ones"
   ]
  },
  {
   "cell_type": "code",
   "execution_count": 16,
   "id": "judicial-plant",
   "metadata": {},
   "outputs": [
    {
     "data": {
      "text/plain": [
       "(tensor([[0.8559, 0.0380, 0.5333],\n",
       "         [0.4751, 0.9181, 0.3447]]),\n",
       " tensor([[1., 1., 1.],\n",
       "         [1., 1., 1.]]),\n",
       " tensor([[0., 0., 0.],\n",
       "         [0., 0., 0.]]))"
      ]
     },
     "execution_count": 16,
     "metadata": {},
     "output_type": "execute_result"
    }
   ],
   "source": [
    "shape = (2, 3,)\n",
    "rand_tensor = torch.rand(shape)\n",
    "ones_tensor = torch.ones(shape)\n",
    "zeros_tensor = torch.zeros(shape)\n",
    "rand_tensor, ones_tensor, zeros_tensor"
   ]
  },
  {
   "cell_type": "code",
   "execution_count": 18,
   "id": "academic-lunch",
   "metadata": {},
   "outputs": [
    {
     "data": {
      "text/plain": [
       "(torch.Size([2, 3]), torch.float32, device(type='cpu'))"
      ]
     },
     "execution_count": 18,
     "metadata": {},
     "output_type": "execute_result"
    }
   ],
   "source": [
    "t = rand_tensor\n",
    "t.shape, t.dtype, t.device"
   ]
  },
  {
   "cell_type": "code",
   "execution_count": 20,
   "id": "satisfactory-provision",
   "metadata": {},
   "outputs": [
    {
     "name": "stdout",
     "output_type": "stream",
     "text": [
      "No GPU!\n"
     ]
    }
   ],
   "source": [
    "if torch.cuda.is_available():\n",
    "    t = t.to(\"cuda\")\n",
    "    print(\"Moved to cuda\")\n",
    "else:\n",
    "    print(\"No GPU!\")"
   ]
  },
  {
   "cell_type": "code",
   "execution_count": 30,
   "id": "intelligent-basin",
   "metadata": {},
   "outputs": [
    {
     "data": {
      "text/plain": [
       "tensor([[0.3951, 0.0701, 0.7018, 0.8951],\n",
       "        [0.2607, 0.5104, 0.7584, 0.6686],\n",
       "        [0.9517, 0.4718, 0.5497, 0.4948],\n",
       "        [0.1961, 0.1184, 0.7166, 0.4292]])"
      ]
     },
     "execution_count": 30,
     "metadata": {},
     "output_type": "execute_result"
    }
   ],
   "source": [
    "t = torch.rand((4, 4))\n",
    "t"
   ]
  },
  {
   "cell_type": "code",
   "execution_count": 31,
   "id": "informational-lecture",
   "metadata": {},
   "outputs": [
    {
     "data": {
      "text/plain": [
       "tensor([0.3951, 0.0701, 0.7018, 0.8951])"
      ]
     },
     "execution_count": 31,
     "metadata": {},
     "output_type": "execute_result"
    }
   ],
   "source": [
    "# First row\n",
    "t[0]"
   ]
  },
  {
   "cell_type": "code",
   "execution_count": 32,
   "id": "therapeutic-expert",
   "metadata": {},
   "outputs": [
    {
     "data": {
      "text/plain": [
       "tensor([0.3951, 0.2607, 0.9517, 0.1961])"
      ]
     },
     "execution_count": 32,
     "metadata": {},
     "output_type": "execute_result"
    }
   ],
   "source": [
    "# First column\n",
    "t[:, 0]"
   ]
  },
  {
   "cell_type": "code",
   "execution_count": 33,
   "id": "psychological-carry",
   "metadata": {},
   "outputs": [
    {
     "data": {
      "text/plain": [
       "tensor([0.8951, 0.6686, 0.4948, 0.4292])"
      ]
     },
     "execution_count": 33,
     "metadata": {},
     "output_type": "execute_result"
    }
   ],
   "source": [
    "# Last column\n",
    "t[:, -1]"
   ]
  },
  {
   "cell_type": "code",
   "execution_count": 34,
   "id": "fleet-correlation",
   "metadata": {},
   "outputs": [
    {
     "data": {
      "text/plain": [
       "tensor([[0.3951, 0.0000, 0.7018, 0.8951],\n",
       "        [0.2607, 0.0000, 0.7584, 0.6686],\n",
       "        [0.9517, 0.0000, 0.5497, 0.4948],\n",
       "        [0.1961, 0.0000, 0.7166, 0.4292]])"
      ]
     },
     "execution_count": 34,
     "metadata": {},
     "output_type": "execute_result"
    }
   ],
   "source": [
    "t[:, 1] = 0\n",
    "t"
   ]
  },
  {
   "cell_type": "code",
   "execution_count": 36,
   "id": "accomplished-brighton",
   "metadata": {},
   "outputs": [
    {
     "data": {
      "text/plain": [
       "(tensor([[0.7987, 0.4745, 0.0889, 0.7845],\n",
       "         [0.4590, 0.4003, 0.1968, 0.6774],\n",
       "         [0.7720, 0.3571, 0.2297, 0.0640]]),\n",
       " tensor([[0.7583, 0.8256, 0.7232, 0.0128],\n",
       "         [0.8445, 0.4238, 0.4492, 0.3906],\n",
       "         [0.8416, 0.4186, 0.0192, 0.6513]]))"
      ]
     },
     "execution_count": 36,
     "metadata": {},
     "output_type": "execute_result"
    }
   ],
   "source": [
    "t1 = torch.rand(3, 4)\n",
    "t2 = torch.rand(3, 4)\n",
    "t1, t2"
   ]
  },
  {
   "cell_type": "code",
   "execution_count": 37,
   "id": "stuffed-rings",
   "metadata": {},
   "outputs": [
    {
     "data": {
      "text/plain": [
       "tensor([[0.7987, 0.4745, 0.0889, 0.7845],\n",
       "        [0.4590, 0.4003, 0.1968, 0.6774],\n",
       "        [0.7720, 0.3571, 0.2297, 0.0640],\n",
       "        [0.7583, 0.8256, 0.7232, 0.0128],\n",
       "        [0.8445, 0.4238, 0.4492, 0.3906],\n",
       "        [0.8416, 0.4186, 0.0192, 0.6513]])"
      ]
     },
     "execution_count": 37,
     "metadata": {},
     "output_type": "execute_result"
    }
   ],
   "source": [
    "torch.cat([t1, t2])  # axis=0"
   ]
  },
  {
   "cell_type": "code",
   "execution_count": 38,
   "id": "floating-moderator",
   "metadata": {},
   "outputs": [
    {
     "data": {
      "text/plain": [
       "tensor([[0.7987, 0.4745, 0.0889, 0.7845, 0.7583, 0.8256, 0.7232, 0.0128],\n",
       "        [0.4590, 0.4003, 0.1968, 0.6774, 0.8445, 0.4238, 0.4492, 0.3906],\n",
       "        [0.7720, 0.3571, 0.2297, 0.0640, 0.8416, 0.4186, 0.0192, 0.6513]])"
      ]
     },
     "execution_count": 38,
     "metadata": {},
     "output_type": "execute_result"
    }
   ],
   "source": [
    "torch.cat([t1, t2], axis=1)"
   ]
  },
  {
   "cell_type": "code",
   "execution_count": 44,
   "id": "martial-domain",
   "metadata": {},
   "outputs": [
    {
     "data": {
      "text/plain": [
       "tensor([[[0.7987, 0.4745, 0.0889, 0.7845],\n",
       "         [0.4590, 0.4003, 0.1968, 0.6774],\n",
       "         [0.7720, 0.3571, 0.2297, 0.0640]],\n",
       "\n",
       "        [[0.7583, 0.8256, 0.7232, 0.0128],\n",
       "         [0.8445, 0.4238, 0.4492, 0.3906],\n",
       "         [0.8416, 0.4186, 0.0192, 0.6513]]])"
      ]
     },
     "execution_count": 44,
     "metadata": {},
     "output_type": "execute_result"
    }
   ],
   "source": [
    "torch.stack([t1, t2])"
   ]
  },
  {
   "cell_type": "markdown",
   "id": "swedish-texas",
   "metadata": {},
   "source": [
    "### Notes\n",
    "\n",
    "Stack with axis is extremely confusing... Basically, the size of that\n",
    "axis in the resulting tensor equals the number of stacked elements"
   ]
  },
  {
   "cell_type": "code",
   "execution_count": 45,
   "id": "qualified-broadcasting",
   "metadata": {},
   "outputs": [
    {
     "data": {
      "text/plain": [
       "tensor([[0.3951, 0.0000, 0.7018, 0.8951],\n",
       "        [0.2607, 0.0000, 0.7584, 0.6686],\n",
       "        [0.9517, 0.0000, 0.5497, 0.4948],\n",
       "        [0.1961, 0.0000, 0.7166, 0.4292]])"
      ]
     },
     "execution_count": 45,
     "metadata": {},
     "output_type": "execute_result"
    }
   ],
   "source": [
    "t"
   ]
  },
  {
   "cell_type": "code",
   "execution_count": 50,
   "id": "clean-occasions",
   "metadata": {},
   "outputs": [
    {
     "data": {
      "text/plain": [
       "tensor([[1.4497, 1.2337, 1.2046, 0.9645],\n",
       "        [1.2337, 1.0902, 0.9957, 0.8815],\n",
       "        [1.2046, 0.9957, 1.4526, 0.7928],\n",
       "        [0.9645, 0.8815, 0.7928, 0.7362]])"
      ]
     },
     "execution_count": 50,
     "metadata": {},
     "output_type": "execute_result"
    }
   ],
   "source": [
    "y1 = t @ t.T  # matmul!\n",
    "y2 = t.matmul(t.T)\n",
    "assert((y1 == y2).all())\n",
    "y1"
   ]
  },
  {
   "cell_type": "code",
   "execution_count": 55,
   "id": "invisible-recipient",
   "metadata": {},
   "outputs": [
    {
     "data": {
      "text/plain": [
       "tensor([[0.1561, 0.0000, 0.4925, 0.8011],\n",
       "        [0.0679, 0.0000, 0.5751, 0.4471],\n",
       "        [0.9057, 0.0000, 0.3021, 0.2448],\n",
       "        [0.0385, 0.0000, 0.5135, 0.1842]])"
      ]
     },
     "execution_count": 55,
     "metadata": {},
     "output_type": "execute_result"
    }
   ],
   "source": [
    "z1 = t * t  # elementwise mul (Hadamard product)\n",
    "z2 = t.mul(t)\n",
    "z3 = torch.rand_like(t)\n",
    "torch.mul(t, t, out=z3)\n",
    "assert((z1 == z2).all())\n",
    "assert((z1 == z3).all())\n",
    "z3"
   ]
  },
  {
   "cell_type": "code",
   "execution_count": 57,
   "id": "naughty-penny",
   "metadata": {},
   "outputs": [
    {
     "data": {
      "text/plain": [
       "(tensor(7.0176), 7.017580032348633)"
      ]
     },
     "execution_count": 57,
     "metadata": {},
     "output_type": "execute_result"
    }
   ],
   "source": [
    "agg = t.sum()\n",
    "agg, agg.item()"
   ]
  },
  {
   "cell_type": "markdown",
   "id": "racial-healing",
   "metadata": {},
   "source": [
    "### In-place operations!\n",
    "\n",
    "- Functions with _ suffixes (oh!).\n",
    "- Noted in the docs that these operations may lead to loss of history.\n",
    "  - Q. why?"
   ]
  },
  {
   "cell_type": "code",
   "execution_count": 58,
   "id": "consecutive-husband",
   "metadata": {},
   "outputs": [
    {
     "data": {
      "text/plain": [
       "tensor([[0.3951, 0.0000, 0.7018, 0.8951],\n",
       "        [0.2607, 0.0000, 0.7584, 0.6686],\n",
       "        [0.9517, 0.0000, 0.5497, 0.4948],\n",
       "        [0.1961, 0.0000, 0.7166, 0.4292]])"
      ]
     },
     "execution_count": 58,
     "metadata": {},
     "output_type": "execute_result"
    }
   ],
   "source": [
    "t"
   ]
  },
  {
   "cell_type": "code",
   "execution_count": 59,
   "id": "worse-google",
   "metadata": {},
   "outputs": [
    {
     "data": {
      "text/plain": [
       "tensor([[5.3951, 5.0000, 5.7018, 5.8951],\n",
       "        [5.2607, 5.0000, 5.7584, 5.6687],\n",
       "        [5.9517, 5.0000, 5.5497, 5.4948],\n",
       "        [5.1961, 5.0000, 5.7166, 5.4292]])"
      ]
     },
     "execution_count": 59,
     "metadata": {},
     "output_type": "execute_result"
    }
   ],
   "source": [
    "t.add_(5)"
   ]
  },
  {
   "cell_type": "code",
   "execution_count": 60,
   "id": "divine-henry",
   "metadata": {},
   "outputs": [
    {
     "data": {
      "text/plain": [
       "tensor([[5.3951, 5.0000, 5.7018, 5.8951],\n",
       "        [5.2607, 5.0000, 5.7584, 5.6687],\n",
       "        [5.9517, 5.0000, 5.5497, 5.4948],\n",
       "        [5.1961, 5.0000, 5.7166, 5.4292]])"
      ]
     },
     "execution_count": 60,
     "metadata": {},
     "output_type": "execute_result"
    }
   ],
   "source": [
    "t"
   ]
  },
  {
   "cell_type": "code",
   "execution_count": 61,
   "id": "quiet-trauma",
   "metadata": {},
   "outputs": [
    {
     "data": {
      "text/plain": [
       "tensor([[5.3951, 5.0000, 5.7018, 5.8951],\n",
       "        [5.2607, 5.0000, 5.7584, 5.6687],\n",
       "        [5.9517, 5.0000, 5.5497, 5.4948],\n",
       "        [5.1961, 5.0000, 5.7166, 5.4292]])"
      ]
     },
     "execution_count": 61,
     "metadata": {},
     "output_type": "execute_result"
    }
   ],
   "source": [
    "t.add(5)\n",
    "t"
   ]
  },
  {
   "cell_type": "code",
   "execution_count": 63,
   "id": "federal-charles",
   "metadata": {},
   "outputs": [
    {
     "data": {
      "text/plain": [
       "tensor([1., 1., 1., 1., 1.])"
      ]
     },
     "execution_count": 63,
     "metadata": {},
     "output_type": "execute_result"
    }
   ],
   "source": [
    "t = torch.ones(5)\n",
    "t"
   ]
  },
  {
   "cell_type": "code",
   "execution_count": 64,
   "id": "mounted-edward",
   "metadata": {},
   "outputs": [
    {
     "data": {
      "text/plain": [
       "array([1., 1., 1., 1., 1.], dtype=float32)"
      ]
     },
     "execution_count": 64,
     "metadata": {},
     "output_type": "execute_result"
    }
   ],
   "source": [
    "n = t.numpy()\n",
    "n"
   ]
  },
  {
   "cell_type": "code",
   "execution_count": 65,
   "id": "recreational-islam",
   "metadata": {},
   "outputs": [
    {
     "data": {
      "text/plain": [
       "(tensor([2., 2., 2., 2., 2.]), array([2., 2., 2., 2., 2.], dtype=float32))"
      ]
     },
     "execution_count": 65,
     "metadata": {},
     "output_type": "execute_result"
    }
   ],
   "source": [
    "t.add_(1)\n",
    "t, n"
   ]
  },
  {
   "cell_type": "code",
   "execution_count": 74,
   "id": "fitted-tutorial",
   "metadata": {},
   "outputs": [
    {
     "data": {
      "text/plain": [
       "(array([1., 1., 1., 1., 1.]),\n",
       " tensor([1., 1., 1., 1., 1.], dtype=torch.float64))"
      ]
     },
     "execution_count": 74,
     "metadata": {},
     "output_type": "execute_result"
    }
   ],
   "source": [
    "n = np.ones(5)\n",
    "t1 = torch.from_numpy(n)\n",
    "t2 = torch.tensor(n)\n",
    "assert(t1.equal(t2))\n",
    "n, t1"
   ]
  },
  {
   "cell_type": "code",
   "execution_count": 75,
   "id": "paperback-timer",
   "metadata": {},
   "outputs": [
    {
     "data": {
      "text/plain": [
       "(array([2., 2., 2., 2., 2.]),\n",
       " tensor([2., 2., 2., 2., 2.], dtype=torch.float64))"
      ]
     },
     "execution_count": 75,
     "metadata": {},
     "output_type": "execute_result"
    }
   ],
   "source": [
    "np.add(n, 1, out=n)\n",
    "n, t1"
   ]
  },
  {
   "cell_type": "markdown",
   "id": "agricultural-niagara",
   "metadata": {},
   "source": [
    "### Notes\n",
    "\n",
    "- Numpy and torch tensors share memory by default\n",
    "- Must be pretty dirty when you move around CPU and GPU...\n",
    "  - TODO (on GPU)"
   ]
  }
 ],
 "metadata": {
  "kernelspec": {
   "display_name": "Python 3",
   "language": "python",
   "name": "python3"
  },
  "language_info": {
   "codemirror_mode": {
    "name": "ipython",
    "version": 3
   },
   "file_extension": ".py",
   "mimetype": "text/x-python",
   "name": "python",
   "nbconvert_exporter": "python",
   "pygments_lexer": "ipython3",
   "version": "3.7.3"
  }
 },
 "nbformat": 4,
 "nbformat_minor": 5
}
