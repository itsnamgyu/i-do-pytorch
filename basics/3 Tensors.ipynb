{
 "cells": [
  {
   "cell_type": "code",
   "execution_count": 1,
   "id": "activated-detroit",
   "metadata": {},
   "outputs": [],
   "source": [
    "import torch\n",
    "import numpy as np\n",
    "import pandas as pd\n",
    "import matplotlib as mpl\n",
    "import matplotlib.pyplot as plt"
   ]
  },
  {
   "cell_type": "code",
   "execution_count": 2,
   "id": "stunning-student",
   "metadata": {},
   "outputs": [
    {
     "data": {
      "text/plain": [
       "tensor([[1, 2],\n",
       "        [3, 4]])"
      ]
     },
     "execution_count": 2,
     "metadata": {},
     "output_type": "execute_result"
    }
   ],
   "source": [
    "data = [[1, 2], [3, 4]]\n",
    "x_data = torch.tensor(data)\n",
    "x_data"
   ]
  },
  {
   "cell_type": "code",
   "execution_count": 3,
   "id": "worth-ghost",
   "metadata": {},
   "outputs": [
    {
     "data": {
      "text/plain": [
       "tensor([[1, 2],\n",
       "        [3, 4]])"
      ]
     },
     "execution_count": 3,
     "metadata": {},
     "output_type": "execute_result"
    }
   ],
   "source": [
    "np_array = np.array(data)\n",
    "x_np = torch.from_numpy(np_array)\n",
    "x_np"
   ]
  },
  {
   "cell_type": "code",
   "execution_count": 4,
   "id": "honest-scanner",
   "metadata": {},
   "outputs": [
    {
     "data": {
      "text/plain": [
       "tensor([[1, 1],\n",
       "        [1, 1]])"
      ]
     },
     "execution_count": 4,
     "metadata": {},
     "output_type": "execute_result"
    }
   ],
   "source": [
    "x_ones = torch.ones_like(x_data)\n",
    "x_ones"
   ]
  },
  {
   "cell_type": "code",
   "execution_count": 5,
   "id": "existing-queue",
   "metadata": {},
   "outputs": [
    {
     "data": {
      "text/plain": [
       "tensor([[0.0465, 0.8464],\n",
       "        [0.6291, 0.6108]])"
      ]
     },
     "execution_count": 5,
     "metadata": {},
     "output_type": "execute_result"
    }
   ],
   "source": [
    "x_ones = torch.rand_like(x_data, dtype=torch.float)\n",
    "x_ones = torch.rand_like(x_data.float())\n",
    "x_ones"
   ]
  },
  {
   "cell_type": "code",
   "execution_count": 6,
   "id": "judicial-plant",
   "metadata": {},
   "outputs": [
    {
     "data": {
      "text/plain": [
       "(tensor([[0.7980, 0.4973, 0.8979],\n",
       "         [0.2375, 0.1454, 0.4570]]),\n",
       " tensor([[1., 1., 1.],\n",
       "         [1., 1., 1.]]),\n",
       " tensor([[0., 0., 0.],\n",
       "         [0., 0., 0.]]))"
      ]
     },
     "execution_count": 6,
     "metadata": {},
     "output_type": "execute_result"
    }
   ],
   "source": [
    "shape = (2, 3,)\n",
    "rand_tensor = torch.rand(shape)\n",
    "ones_tensor = torch.ones(shape)\n",
    "zeros_tensor = torch.zeros(shape)\n",
    "rand_tensor, ones_tensor, zeros_tensor"
   ]
  },
  {
   "cell_type": "code",
   "execution_count": 7,
   "id": "academic-lunch",
   "metadata": {},
   "outputs": [
    {
     "data": {
      "text/plain": [
       "(torch.Size([2, 3]), torch.float32, device(type='cpu'))"
      ]
     },
     "execution_count": 7,
     "metadata": {},
     "output_type": "execute_result"
    }
   ],
   "source": [
    "t = rand_tensor\n",
    "t.shape, t.dtype, t.device"
   ]
  },
  {
   "cell_type": "code",
   "execution_count": 8,
   "id": "satisfactory-provision",
   "metadata": {},
   "outputs": [
    {
     "name": "stdout",
     "output_type": "stream",
     "text": [
      "Moved to cuda\n"
     ]
    }
   ],
   "source": [
    "if torch.cuda.is_available():\n",
    "    t = t.to(\"cuda\")\n",
    "    print(\"Moved to cuda\")\n",
    "else:\n",
    "    print(\"No GPU!\")"
   ]
  },
  {
   "cell_type": "code",
   "execution_count": 9,
   "id": "intelligent-basin",
   "metadata": {},
   "outputs": [
    {
     "data": {
      "text/plain": [
       "tensor([[0.4556, 0.8010, 0.4316, 0.9551],\n",
       "        [0.1984, 0.2237, 0.9466, 0.1117],\n",
       "        [0.6028, 0.1022, 0.7670, 0.1570],\n",
       "        [0.5611, 0.1102, 0.0268, 0.2399]])"
      ]
     },
     "execution_count": 9,
     "metadata": {},
     "output_type": "execute_result"
    }
   ],
   "source": [
    "t = torch.rand((4, 4))\n",
    "t"
   ]
  },
  {
   "cell_type": "code",
   "execution_count": 10,
   "id": "informational-lecture",
   "metadata": {},
   "outputs": [
    {
     "data": {
      "text/plain": [
       "tensor([0.4556, 0.8010, 0.4316, 0.9551])"
      ]
     },
     "execution_count": 10,
     "metadata": {},
     "output_type": "execute_result"
    }
   ],
   "source": [
    "# First row\n",
    "t[0]"
   ]
  },
  {
   "cell_type": "code",
   "execution_count": 11,
   "id": "therapeutic-expert",
   "metadata": {},
   "outputs": [
    {
     "data": {
      "text/plain": [
       "tensor([0.4556, 0.1984, 0.6028, 0.5611])"
      ]
     },
     "execution_count": 11,
     "metadata": {},
     "output_type": "execute_result"
    }
   ],
   "source": [
    "# First column\n",
    "t[:, 0]"
   ]
  },
  {
   "cell_type": "code",
   "execution_count": 12,
   "id": "psychological-carry",
   "metadata": {},
   "outputs": [
    {
     "data": {
      "text/plain": [
       "tensor([0.9551, 0.1117, 0.1570, 0.2399])"
      ]
     },
     "execution_count": 12,
     "metadata": {},
     "output_type": "execute_result"
    }
   ],
   "source": [
    "# Last column\n",
    "t[:, -1]"
   ]
  },
  {
   "cell_type": "code",
   "execution_count": 13,
   "id": "fleet-correlation",
   "metadata": {},
   "outputs": [
    {
     "data": {
      "text/plain": [
       "tensor([[0.4556, 0.0000, 0.4316, 0.9551],\n",
       "        [0.1984, 0.0000, 0.9466, 0.1117],\n",
       "        [0.6028, 0.0000, 0.7670, 0.1570],\n",
       "        [0.5611, 0.0000, 0.0268, 0.2399]])"
      ]
     },
     "execution_count": 13,
     "metadata": {},
     "output_type": "execute_result"
    }
   ],
   "source": [
    "t[:, 1] = 0\n",
    "t"
   ]
  },
  {
   "cell_type": "code",
   "execution_count": 14,
   "id": "accomplished-brighton",
   "metadata": {},
   "outputs": [
    {
     "data": {
      "text/plain": [
       "(tensor([[0.5873, 0.0422, 0.5207, 0.4625],\n",
       "         [0.4345, 0.5271, 0.6636, 0.4851],\n",
       "         [0.7973, 0.0403, 0.7699, 0.3223]]),\n",
       " tensor([[0.9521, 0.6872, 0.1392, 0.0221],\n",
       "         [0.8481, 0.8614, 0.2884, 0.5352],\n",
       "         [0.5055, 0.6557, 0.0872, 0.3869]]))"
      ]
     },
     "execution_count": 14,
     "metadata": {},
     "output_type": "execute_result"
    }
   ],
   "source": [
    "t1 = torch.rand(3, 4)\n",
    "t2 = torch.rand(3, 4)\n",
    "t1, t2"
   ]
  },
  {
   "cell_type": "code",
   "execution_count": 15,
   "id": "stuffed-rings",
   "metadata": {},
   "outputs": [
    {
     "data": {
      "text/plain": [
       "tensor([[0.5873, 0.0422, 0.5207, 0.4625],\n",
       "        [0.4345, 0.5271, 0.6636, 0.4851],\n",
       "        [0.7973, 0.0403, 0.7699, 0.3223],\n",
       "        [0.9521, 0.6872, 0.1392, 0.0221],\n",
       "        [0.8481, 0.8614, 0.2884, 0.5352],\n",
       "        [0.5055, 0.6557, 0.0872, 0.3869]])"
      ]
     },
     "execution_count": 15,
     "metadata": {},
     "output_type": "execute_result"
    }
   ],
   "source": [
    "torch.cat([t1, t2])  # axis=0"
   ]
  },
  {
   "cell_type": "code",
   "execution_count": 16,
   "id": "floating-moderator",
   "metadata": {},
   "outputs": [
    {
     "data": {
      "text/plain": [
       "tensor([[0.5873, 0.0422, 0.5207, 0.4625, 0.9521, 0.6872, 0.1392, 0.0221],\n",
       "        [0.4345, 0.5271, 0.6636, 0.4851, 0.8481, 0.8614, 0.2884, 0.5352],\n",
       "        [0.7973, 0.0403, 0.7699, 0.3223, 0.5055, 0.6557, 0.0872, 0.3869]])"
      ]
     },
     "execution_count": 16,
     "metadata": {},
     "output_type": "execute_result"
    }
   ],
   "source": [
    "torch.cat([t1, t2], axis=1)"
   ]
  },
  {
   "cell_type": "code",
   "execution_count": 17,
   "id": "martial-domain",
   "metadata": {},
   "outputs": [
    {
     "data": {
      "text/plain": [
       "tensor([[[0.5873, 0.0422, 0.5207, 0.4625],\n",
       "         [0.4345, 0.5271, 0.6636, 0.4851],\n",
       "         [0.7973, 0.0403, 0.7699, 0.3223]],\n",
       "\n",
       "        [[0.9521, 0.6872, 0.1392, 0.0221],\n",
       "         [0.8481, 0.8614, 0.2884, 0.5352],\n",
       "         [0.5055, 0.6557, 0.0872, 0.3869]]])"
      ]
     },
     "execution_count": 17,
     "metadata": {},
     "output_type": "execute_result"
    }
   ],
   "source": [
    "torch.stack([t1, t2])"
   ]
  },
  {
   "cell_type": "markdown",
   "id": "swedish-texas",
   "metadata": {},
   "source": [
    "### Notes\n",
    "\n",
    "Stack with axis is extremely confusing... Basically, the size of that\n",
    "axis in the resulting tensor equals the number of stacked elements"
   ]
  },
  {
   "cell_type": "code",
   "execution_count": 18,
   "id": "qualified-broadcasting",
   "metadata": {},
   "outputs": [
    {
     "data": {
      "text/plain": [
       "tensor([[0.4556, 0.0000, 0.4316, 0.9551],\n",
       "        [0.1984, 0.0000, 0.9466, 0.1117],\n",
       "        [0.6028, 0.0000, 0.7670, 0.1570],\n",
       "        [0.5611, 0.0000, 0.0268, 0.2399]])"
      ]
     },
     "execution_count": 18,
     "metadata": {},
     "output_type": "execute_result"
    }
   ],
   "source": [
    "t"
   ]
  },
  {
   "cell_type": "code",
   "execution_count": 19,
   "id": "clean-occasions",
   "metadata": {},
   "outputs": [
    {
     "data": {
      "text/plain": [
       "tensor([[1.3060, 0.6056, 0.7556, 0.4963],\n",
       "        [0.6056, 0.9479, 0.8632, 0.1635],\n",
       "        [0.7556, 0.8632, 0.9763, 0.3965],\n",
       "        [0.4963, 0.1635, 0.3965, 0.3730]])"
      ]
     },
     "execution_count": 19,
     "metadata": {},
     "output_type": "execute_result"
    }
   ],
   "source": [
    "y1 = t @ t.T  # matmul!\n",
    "y2 = t.matmul(t.T)\n",
    "assert((y1 == y2).all())\n",
    "y1"
   ]
  },
  {
   "cell_type": "code",
   "execution_count": 20,
   "id": "invisible-recipient",
   "metadata": {},
   "outputs": [
    {
     "data": {
      "text/plain": [
       "tensor([[2.0761e-01, 0.0000e+00, 1.8624e-01, 9.1213e-01],\n",
       "        [3.9362e-02, 0.0000e+00, 8.9607e-01, 1.2479e-02],\n",
       "        [3.6339e-01, 0.0000e+00, 5.8828e-01, 2.4652e-02],\n",
       "        [3.1478e-01, 0.0000e+00, 7.2071e-04, 5.7530e-02]])"
      ]
     },
     "execution_count": 20,
     "metadata": {},
     "output_type": "execute_result"
    }
   ],
   "source": [
    "z1 = t * t  # elementwise mul (Hadamard product)\n",
    "z2 = t.mul(t)\n",
    "z3 = torch.rand_like(t)\n",
    "torch.mul(t, t, out=z3)\n",
    "assert((z1 == z2).all())\n",
    "assert((z1 == z3).all())\n",
    "z3"
   ]
  },
  {
   "cell_type": "code",
   "execution_count": 21,
   "id": "naughty-penny",
   "metadata": {},
   "outputs": [
    {
     "data": {
      "text/plain": [
       "(tensor(5.4536), 5.453556537628174)"
      ]
     },
     "execution_count": 21,
     "metadata": {},
     "output_type": "execute_result"
    }
   ],
   "source": [
    "agg = t.sum()\n",
    "agg, agg.item()"
   ]
  },
  {
   "cell_type": "markdown",
   "id": "racial-healing",
   "metadata": {},
   "source": [
    "### In-place operations!\n",
    "\n",
    "- Functions with _ suffixes (oh!).\n",
    "- Noted in the docs that these operations may lead to loss of history.\n",
    "  - Q. why?"
   ]
  },
  {
   "cell_type": "code",
   "execution_count": 22,
   "id": "consecutive-husband",
   "metadata": {},
   "outputs": [
    {
     "data": {
      "text/plain": [
       "tensor([[0.4556, 0.0000, 0.4316, 0.9551],\n",
       "        [0.1984, 0.0000, 0.9466, 0.1117],\n",
       "        [0.6028, 0.0000, 0.7670, 0.1570],\n",
       "        [0.5611, 0.0000, 0.0268, 0.2399]])"
      ]
     },
     "execution_count": 22,
     "metadata": {},
     "output_type": "execute_result"
    }
   ],
   "source": [
    "t"
   ]
  },
  {
   "cell_type": "code",
   "execution_count": 23,
   "id": "worse-google",
   "metadata": {},
   "outputs": [
    {
     "data": {
      "text/plain": [
       "tensor([[5.4556, 5.0000, 5.4316, 5.9551],\n",
       "        [5.1984, 5.0000, 5.9466, 5.1117],\n",
       "        [5.6028, 5.0000, 5.7670, 5.1570],\n",
       "        [5.5611, 5.0000, 5.0268, 5.2399]])"
      ]
     },
     "execution_count": 23,
     "metadata": {},
     "output_type": "execute_result"
    }
   ],
   "source": [
    "t.add_(5)"
   ]
  },
  {
   "cell_type": "code",
   "execution_count": 24,
   "id": "divine-henry",
   "metadata": {},
   "outputs": [
    {
     "data": {
      "text/plain": [
       "tensor([[5.4556, 5.0000, 5.4316, 5.9551],\n",
       "        [5.1984, 5.0000, 5.9466, 5.1117],\n",
       "        [5.6028, 5.0000, 5.7670, 5.1570],\n",
       "        [5.5611, 5.0000, 5.0268, 5.2399]])"
      ]
     },
     "execution_count": 24,
     "metadata": {},
     "output_type": "execute_result"
    }
   ],
   "source": [
    "t"
   ]
  },
  {
   "cell_type": "code",
   "execution_count": 25,
   "id": "quiet-trauma",
   "metadata": {},
   "outputs": [
    {
     "data": {
      "text/plain": [
       "tensor([[5.4556, 5.0000, 5.4316, 5.9551],\n",
       "        [5.1984, 5.0000, 5.9466, 5.1117],\n",
       "        [5.6028, 5.0000, 5.7670, 5.1570],\n",
       "        [5.5611, 5.0000, 5.0268, 5.2399]])"
      ]
     },
     "execution_count": 25,
     "metadata": {},
     "output_type": "execute_result"
    }
   ],
   "source": [
    "t.add(5)\n",
    "t"
   ]
  },
  {
   "cell_type": "code",
   "execution_count": 26,
   "id": "federal-charles",
   "metadata": {},
   "outputs": [
    {
     "data": {
      "text/plain": [
       "tensor([1., 1., 1., 1., 1.])"
      ]
     },
     "execution_count": 26,
     "metadata": {},
     "output_type": "execute_result"
    }
   ],
   "source": [
    "t = torch.ones(5)\n",
    "t"
   ]
  },
  {
   "cell_type": "code",
   "execution_count": 27,
   "id": "mounted-edward",
   "metadata": {},
   "outputs": [
    {
     "data": {
      "text/plain": [
       "array([1., 1., 1., 1., 1.], dtype=float32)"
      ]
     },
     "execution_count": 27,
     "metadata": {},
     "output_type": "execute_result"
    }
   ],
   "source": [
    "n = t.numpy()\n",
    "n"
   ]
  },
  {
   "cell_type": "code",
   "execution_count": 28,
   "id": "recreational-islam",
   "metadata": {},
   "outputs": [
    {
     "data": {
      "text/plain": [
       "(tensor([2., 2., 2., 2., 2.]), array([2., 2., 2., 2., 2.], dtype=float32))"
      ]
     },
     "execution_count": 28,
     "metadata": {},
     "output_type": "execute_result"
    }
   ],
   "source": [
    "t.add_(1)\n",
    "t, n"
   ]
  },
  {
   "cell_type": "code",
   "execution_count": 29,
   "id": "fitted-tutorial",
   "metadata": {},
   "outputs": [
    {
     "data": {
      "text/plain": [
       "(array([1., 1., 1., 1., 1.]),\n",
       " tensor([1., 1., 1., 1., 1.], dtype=torch.float64))"
      ]
     },
     "execution_count": 29,
     "metadata": {},
     "output_type": "execute_result"
    }
   ],
   "source": [
    "n = np.ones(5)\n",
    "t1 = torch.from_numpy(n)\n",
    "t2 = torch.tensor(n)\n",
    "assert(t1.equal(t2))\n",
    "n, t1"
   ]
  },
  {
   "cell_type": "code",
   "execution_count": 30,
   "id": "paperback-timer",
   "metadata": {},
   "outputs": [
    {
     "data": {
      "text/plain": [
       "(array([2., 2., 2., 2., 2.]),\n",
       " tensor([2., 2., 2., 2., 2.], dtype=torch.float64))"
      ]
     },
     "execution_count": 30,
     "metadata": {},
     "output_type": "execute_result"
    }
   ],
   "source": [
    "np.add(n, 1, out=n)\n",
    "n, t1"
   ]
  },
  {
   "cell_type": "markdown",
   "id": "agricultural-niagara",
   "metadata": {},
   "source": [
    "### Notes\n",
    "\n",
    "- Numpy and torch tensors share memory by default\n",
    "- Must be pretty dirty when you move around CPU and GPU...\n",
    "  - TODO (on GPU)"
   ]
  },
  {
   "cell_type": "code",
   "execution_count": 32,
   "id": "functional-recruitment",
   "metadata": {},
   "outputs": [],
   "source": [
    "n = np.ones(5)\n",
    "tn = torch.from_numpy(n)\n",
    "t = torch.tensor(n)"
   ]
  },
  {
   "cell_type": "code",
   "execution_count": 33,
   "id": "billion-evening",
   "metadata": {},
   "outputs": [
    {
     "data": {
      "text/plain": [
       "array([2., 2., 2., 2., 2.])"
      ]
     },
     "execution_count": 33,
     "metadata": {},
     "output_type": "execute_result"
    }
   ],
   "source": [
    "np.add(n, 1, out=n)"
   ]
  },
  {
   "cell_type": "code",
   "execution_count": 34,
   "id": "animated-marina",
   "metadata": {},
   "outputs": [
    {
     "data": {
      "text/plain": [
       "(tensor([2., 2., 2., 2., 2.], dtype=torch.float64),\n",
       " tensor([1., 1., 1., 1., 1.], dtype=torch.float64))"
      ]
     },
     "execution_count": 34,
     "metadata": {},
     "output_type": "execute_result"
    }
   ],
   "source": [
    "tn, t"
   ]
  },
  {
   "cell_type": "code",
   "execution_count": 46,
   "id": "purple-taylor",
   "metadata": {},
   "outputs": [],
   "source": [
    "tg = tn.to(\"cuda\")"
   ]
  },
  {
   "cell_type": "code",
   "execution_count": 47,
   "id": "allied-lafayette",
   "metadata": {},
   "outputs": [
    {
     "data": {
      "text/plain": [
       "tensor([3., 3., 3., 3., 3.], device='cuda:0', dtype=torch.float64)"
      ]
     },
     "execution_count": 47,
     "metadata": {},
     "output_type": "execute_result"
    }
   ],
   "source": [
    "tg.add_(1)"
   ]
  },
  {
   "cell_type": "code",
   "execution_count": 48,
   "id": "neutral-welsh",
   "metadata": {},
   "outputs": [
    {
     "data": {
      "text/plain": [
       "tensor([2., 2., 2., 2., 2.], dtype=torch.float64)"
      ]
     },
     "execution_count": 48,
     "metadata": {},
     "output_type": "execute_result"
    }
   ],
   "source": [
    "tn"
   ]
  },
  {
   "cell_type": "code",
   "execution_count": 49,
   "id": "cardiac-forty",
   "metadata": {},
   "outputs": [
    {
     "data": {
      "text/plain": [
       "array([2., 2., 2., 2., 2.])"
      ]
     },
     "execution_count": 49,
     "metadata": {},
     "output_type": "execute_result"
    }
   ],
   "source": [
    "n"
   ]
  },
  {
   "cell_type": "code",
   "execution_count": 50,
   "id": "absent-original",
   "metadata": {},
   "outputs": [
    {
     "data": {
      "text/plain": [
       "tensor([1., 1., 1., 1., 1.], dtype=torch.float64)"
      ]
     },
     "execution_count": 50,
     "metadata": {},
     "output_type": "execute_result"
    }
   ],
   "source": [
    "t"
   ]
  },
  {
   "cell_type": "code",
   "execution_count": 51,
   "id": "amino-charm",
   "metadata": {},
   "outputs": [],
   "source": [
    "tnn = tg.to(\"cpu\")"
   ]
  },
  {
   "cell_type": "code",
   "execution_count": 52,
   "id": "diagnostic-processor",
   "metadata": {},
   "outputs": [
    {
     "data": {
      "text/plain": [
       "tensor([3., 3., 3., 3., 3.], dtype=torch.float64)"
      ]
     },
     "execution_count": 52,
     "metadata": {},
     "output_type": "execute_result"
    }
   ],
   "source": [
    "tnn"
   ]
  },
  {
   "cell_type": "code",
   "execution_count": 53,
   "id": "inside-valley",
   "metadata": {},
   "outputs": [
    {
     "data": {
      "text/plain": [
       "tensor([4., 4., 4., 4., 4.], dtype=torch.float64)"
      ]
     },
     "execution_count": 53,
     "metadata": {},
     "output_type": "execute_result"
    }
   ],
   "source": [
    "tnn.add_(1)"
   ]
  },
  {
   "cell_type": "code",
   "execution_count": 54,
   "id": "possible-account",
   "metadata": {},
   "outputs": [
    {
     "data": {
      "text/plain": [
       "tensor([3., 3., 3., 3., 3.], device='cuda:0', dtype=torch.float64)"
      ]
     },
     "execution_count": 54,
     "metadata": {},
     "output_type": "execute_result"
    }
   ],
   "source": [
    "tg"
   ]
  },
  {
   "cell_type": "markdown",
   "id": "driving-hayes",
   "metadata": {},
   "source": [
    "### GPU Results\n",
    "\n",
    "- As expected, CPU/GPU tensors are independent (always copy)."
   ]
  },
  {
   "cell_type": "code",
   "execution_count": null,
   "id": "parliamentary-afternoon",
   "metadata": {},
   "outputs": [],
   "source": []
  }
 ],
 "metadata": {
  "kernelspec": {
   "display_name": "Python 3",
   "language": "python",
   "name": "python3"
  },
  "language_info": {
   "codemirror_mode": {
    "name": "ipython",
    "version": 3
   },
   "file_extension": ".py",
   "mimetype": "text/x-python",
   "name": "python",
   "nbconvert_exporter": "python",
   "pygments_lexer": "ipython3",
   "version": "3.8.8"
  }
 },
 "nbformat": 4,
 "nbformat_minor": 5
}
