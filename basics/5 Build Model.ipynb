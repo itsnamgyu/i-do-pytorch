{
 "cells": [
  {
   "cell_type": "code",
   "execution_count": 3,
   "id": "exciting-eagle",
   "metadata": {},
   "outputs": [],
   "source": [
    "import os\n",
    "import torch\n",
    "from torch import nn\n",
    "from torch.utils.data import Dataset, DataLoader\n",
    "from torchvision import datasets, transforms"
   ]
  },
  {
   "cell_type": "code",
   "execution_count": 2,
   "id": "capital-summit",
   "metadata": {},
   "outputs": [
    {
     "name": "stdout",
     "output_type": "stream",
     "text": [
      "Using cuda device\n"
     ]
    }
   ],
   "source": [
    "device = \"cuda\" if torch.cuda.is_available() else \"cpu\"\n",
    "print(\"Using {} device\".format(device))"
   ]
  },
  {
   "cell_type": "code",
   "execution_count": 7,
   "id": "radio-september",
   "metadata": {},
   "outputs": [],
   "source": [
    "class HoNet(nn.Module):\n",
    "    def __init__(self):\n",
    "        super().__init__()\n",
    "        self.flatten = nn.Flatten()\n",
    "        self.linear_relu_stack = nn.Sequential(\n",
    "            nn.Linear(28*28, 512),\n",
    "            nn.ReLU(),\n",
    "            nn.Linear(512, 512),\n",
    "            nn.ReLU(),\n",
    "            nn.Linear(512, 10),\n",
    "            nn.ReLU(),\n",
    "        )\n",
    "    \n",
    "    def forward(self, x):\n",
    "        x = self.flatten(x)\n",
    "        logits = self.linear_relu_stack(x)\n",
    "        return logits"
   ]
  },
  {
   "cell_type": "code",
   "execution_count": 8,
   "id": "imperial-saturday",
   "metadata": {},
   "outputs": [
    {
     "name": "stdout",
     "output_type": "stream",
     "text": [
      "HoNet(\n",
      "  (flatten): Flatten(start_dim=1, end_dim=-1)\n",
      "  (linear_relu_stack): Sequential(\n",
      "    (0): Linear(in_features=784, out_features=512, bias=True)\n",
      "    (1): ReLU()\n",
      "    (2): Linear(in_features=512, out_features=512, bias=True)\n",
      "    (3): ReLU()\n",
      "    (4): Linear(in_features=512, out_features=10, bias=True)\n",
      "    (5): ReLU()\n",
      "  )\n",
      ")\n"
     ]
    }
   ],
   "source": [
    "model = HoNet().to(device)\n",
    "print(model)"
   ]
  },
  {
   "cell_type": "code",
   "execution_count": 14,
   "id": "equipped-catalyst",
   "metadata": {},
   "outputs": [
    {
     "name": "stdout",
     "output_type": "stream",
     "text": [
      "Predicted class: 9\n"
     ]
    }
   ],
   "source": [
    "x = torch.rand(1, 28, 28, device=device)\n",
    "logits = model(x)\n",
    "pred_probs = nn.Softmax(dim=1)(logits)\n",
    "y_pred = pred_probs.argmax(1)\n",
    "print(\"Predicted class:\", y_pred.cpu().item())"
   ]
  },
  {
   "cell_type": "markdown",
   "id": "automatic-sampling",
   "metadata": {},
   "source": [
    "### nn.Flatten"
   ]
  },
  {
   "cell_type": "code",
   "execution_count": 17,
   "id": "faced-allowance",
   "metadata": {},
   "outputs": [
    {
     "data": {
      "text/plain": [
       "torch.Size([3, 28, 28])"
      ]
     },
     "execution_count": 17,
     "metadata": {},
     "output_type": "execute_result"
    }
   ],
   "source": [
    "input_image = torch.rand(3, 28, 28)\n",
    "input_image.size()"
   ]
  },
  {
   "cell_type": "code",
   "execution_count": 22,
   "id": "raised-wings",
   "metadata": {},
   "outputs": [
    {
     "data": {
      "text/plain": [
       "torch.Size([3, 784])"
      ]
     },
     "execution_count": 22,
     "metadata": {},
     "output_type": "execute_result"
    }
   ],
   "source": [
    "flatten = nn.Flatten()\n",
    "flat_image = flatten(input_image)\n",
    "flat_image.size()"
   ]
  },
  {
   "cell_type": "code",
   "execution_count": 31,
   "id": "binding-dakota",
   "metadata": {},
   "outputs": [
    {
     "data": {
      "text/plain": [
       "torch.Size([3, 21952])"
      ]
     },
     "execution_count": 31,
     "metadata": {},
     "output_type": "execute_result"
    }
   ],
   "source": [
    "# How about more dimension?\n",
    "image3 = torch.rand(3, 28, 28, 28)\n",
    "f3 = flatten(image3)\n",
    "f3.size()"
   ]
  },
  {
   "cell_type": "markdown",
   "id": "overall-television",
   "metadata": {},
   "source": [
    "### Observations\n",
    "\n",
    "- `nn.Flatten()` leaves the first dimension (= batch?) and flattens all others"
   ]
  },
  {
   "cell_type": "markdown",
   "id": "industrial-editing",
   "metadata": {},
   "source": [
    "### nn.Linear"
   ]
  },
  {
   "cell_type": "code",
   "execution_count": 30,
   "id": "differential-maintenance",
   "metadata": {},
   "outputs": [
    {
     "data": {
      "text/plain": [
       "torch.Size([3, 20])"
      ]
     },
     "execution_count": 30,
     "metadata": {},
     "output_type": "execute_result"
    }
   ],
   "source": [
    "layer1 = nn.Linear(in_features=28*28, out_features=20)\n",
    "hidden1 = layer1(flat_image)\n",
    "hidden1.size()"
   ]
  },
  {
   "cell_type": "markdown",
   "id": "complimentary-outreach",
   "metadata": {},
   "source": [
    "### nn.ReLU"
   ]
  },
  {
   "cell_type": "code",
   "execution_count": 27,
   "id": "legitimate-bridal",
   "metadata": {},
   "outputs": [],
   "source": [
    "x = torch.rand(10) - 0.5"
   ]
  },
  {
   "cell_type": "code",
   "execution_count": 28,
   "id": "laughing-sheffield",
   "metadata": {},
   "outputs": [
    {
     "data": {
      "text/plain": [
       "(tensor([ 0.3427, -0.0370,  0.3672,  0.4891,  0.4188,  0.1606,  0.0590,  0.3264,\n",
       "          0.0351,  0.0750]),\n",
       " tensor([0.3427, 0.0000, 0.3672, 0.4891, 0.4188, 0.1606, 0.0590, 0.3264, 0.0351,\n",
       "         0.0750]))"
      ]
     },
     "execution_count": 28,
     "metadata": {},
     "output_type": "execute_result"
    }
   ],
   "source": [
    "relu = nn.ReLU()\n",
    "rx = relu(x)\n",
    "x, rx"
   ]
  },
  {
   "cell_type": "markdown",
   "id": "unknown-assessment",
   "metadata": {},
   "source": [
    "### nn.Sequential"
   ]
  },
  {
   "cell_type": "code",
   "execution_count": 34,
   "id": "nasty-proceeding",
   "metadata": {},
   "outputs": [],
   "source": [
    "seq = nn.Sequential(\n",
    "    flatten,\n",
    "    layer1,\n",
    "    relu,\n",
    "    nn.Linear(20, 10)\n",
    ")"
   ]
  },
  {
   "cell_type": "code",
   "execution_count": 35,
   "id": "finite-divorce",
   "metadata": {},
   "outputs": [
    {
     "data": {
      "text/plain": [
       "torch.Size([3, 10])"
      ]
     },
     "execution_count": 35,
     "metadata": {},
     "output_type": "execute_result"
    }
   ],
   "source": [
    "input_image = torch.rand(3, 28, 28)\n",
    "logits = seq(input_image)\n",
    "logits.size()"
   ]
  },
  {
   "cell_type": "markdown",
   "id": "coastal-damages",
   "metadata": {},
   "source": [
    "### nn.Softmax"
   ]
  },
  {
   "cell_type": "code",
   "execution_count": 39,
   "id": "prompt-hundred",
   "metadata": {},
   "outputs": [
    {
     "data": {
      "text/plain": [
       "torch.Size([3, 10])"
      ]
     },
     "execution_count": 39,
     "metadata": {},
     "output_type": "execute_result"
    }
   ],
   "source": [
    "softmax = nn.Softmax(dim=1)\n",
    "pred_probs = softmax(logits)\n",
    "pred_probs.size()"
   ]
  },
  {
   "cell_type": "code",
   "execution_count": 41,
   "id": "premium-administration",
   "metadata": {},
   "outputs": [
    {
     "data": {
      "text/plain": [
       "(tensor([ 0.1962, -0.2523,  0.0532, -0.0633], grad_fn=<SliceBackward>),\n",
       " tensor([0.1152, 0.0736, 0.0998, 0.0889], grad_fn=<SliceBackward>))"
      ]
     },
     "execution_count": 41,
     "metadata": {},
     "output_type": "execute_result"
    }
   ],
   "source": [
    "logits[0, :4], \\\n",
    "pred_probs[0, :4]"
   ]
  },
  {
   "cell_type": "markdown",
   "id": "thorough-muslim",
   "metadata": {},
   "source": [
    "### Model Parameters"
   ]
  },
  {
   "cell_type": "code",
   "execution_count": 65,
   "id": "earlier-horror",
   "metadata": {},
   "outputs": [],
   "source": [
    "params = model.named_parameters()"
   ]
  },
  {
   "cell_type": "code",
   "execution_count": 66,
   "id": "imported-chaos",
   "metadata": {
    "scrolled": true
   },
   "outputs": [
    {
     "name": "stdout",
     "output_type": "stream",
     "text": [
      "################################################################################\n",
      "linear_relu_stack.0.weight\n",
      "tensor([[ 0.0022, -0.0252, -0.0065,  ..., -0.0014, -0.0214,  0.0197],\n",
      "        [ 0.0035,  0.0111,  0.0084,  ...,  0.0179, -0.0266, -0.0157]],\n",
      "       device='cuda:0', grad_fn=<SliceBackward>)\n",
      "################################################################################\n",
      "linear_relu_stack.0.bias\n",
      "tensor([ 0.0277, -0.0018], device='cuda:0', grad_fn=<SliceBackward>)\n",
      "################################################################################\n",
      "linear_relu_stack.2.weight\n",
      "tensor([[ 0.0166,  0.0327,  0.0410,  ...,  0.0282, -0.0258,  0.0229],\n",
      "        [-0.0160,  0.0062,  0.0177,  ...,  0.0111,  0.0378,  0.0217]],\n",
      "       device='cuda:0', grad_fn=<SliceBackward>)\n",
      "################################################################################\n",
      "linear_relu_stack.2.bias\n",
      "tensor([0.0138, 0.0223], device='cuda:0', grad_fn=<SliceBackward>)\n",
      "################################################################################\n",
      "linear_relu_stack.4.weight\n",
      "tensor([[-0.0162, -0.0044,  0.0212,  ...,  0.0361,  0.0440, -0.0405],\n",
      "        [ 0.0364, -0.0031,  0.0271,  ...,  0.0259,  0.0212,  0.0404]],\n",
      "       device='cuda:0', grad_fn=<SliceBackward>)\n",
      "################################################################################\n",
      "linear_relu_stack.4.bias\n",
      "tensor([0.0395, 0.0334], device='cuda:0', grad_fn=<SliceBackward>)\n"
     ]
    }
   ],
   "source": [
    "for key, value in params:\n",
    "    print(\"#\" * 80)\n",
    "    print(key)\n",
    "    print(value[:2])"
   ]
  },
  {
   "cell_type": "markdown",
   "id": "crazy-diabetes",
   "metadata": {},
   "source": [
    "### State Dict\n",
    "\n",
    "Seems to only give raw data, not live references."
   ]
  },
  {
   "cell_type": "code",
   "execution_count": 74,
   "id": "limiting-privacy",
   "metadata": {
    "scrolled": true
   },
   "outputs": [
    {
     "name": "stdout",
     "output_type": "stream",
     "text": [
      "################################################################################\n",
      "linear_relu_stack.0.weight\n",
      "tensor([[ 0.0022, -0.0252, -0.0065,  ..., -0.0014, -0.0214,  0.0197],\n",
      "        [ 0.0035,  0.0111,  0.0084,  ...,  0.0179, -0.0266, -0.0157]],\n",
      "       device='cuda:0')\n",
      "################################################################################\n",
      "linear_relu_stack.0.bias\n",
      "tensor([ 0.0277, -0.0018], device='cuda:0')\n",
      "################################################################################\n",
      "linear_relu_stack.2.weight\n",
      "tensor([[ 0.0166,  0.0327,  0.0410,  ...,  0.0282, -0.0258,  0.0229],\n",
      "        [-0.0160,  0.0062,  0.0177,  ...,  0.0111,  0.0378,  0.0217]],\n",
      "       device='cuda:0')\n",
      "################################################################################\n",
      "linear_relu_stack.2.bias\n",
      "tensor([0.0138, 0.0223], device='cuda:0')\n",
      "################################################################################\n",
      "linear_relu_stack.4.weight\n",
      "tensor([[-0.0162, -0.0044,  0.0212,  ...,  0.0361,  0.0440, -0.0405],\n",
      "        [ 0.0364, -0.0031,  0.0271,  ...,  0.0259,  0.0212,  0.0404]],\n",
      "       device='cuda:0')\n",
      "################################################################################\n",
      "linear_relu_stack.4.bias\n",
      "tensor([0.0395, 0.0334], device='cuda:0')\n"
     ]
    }
   ],
   "source": [
    "for key, value in model.state_dict().items():\n",
    "    print(\"#\" * 80)\n",
    "    print(key)\n",
    "    print(value[:2])"
   ]
  }
 ],
 "metadata": {
  "kernelspec": {
   "display_name": "Python 3",
   "language": "python",
   "name": "python3"
  },
  "language_info": {
   "codemirror_mode": {
    "name": "ipython",
    "version": 3
   },
   "file_extension": ".py",
   "mimetype": "text/x-python",
   "name": "python",
   "nbconvert_exporter": "python",
   "pygments_lexer": "ipython3",
   "version": "3.8.8"
  }
 },
 "nbformat": 4,
 "nbformat_minor": 5
}
