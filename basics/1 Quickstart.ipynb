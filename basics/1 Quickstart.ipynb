{
 "cells": [
  {
   "cell_type": "code",
   "execution_count": 21,
   "id": "pursuant-print",
   "metadata": {},
   "outputs": [],
   "source": [
    "import torch\n",
    "from torch import nn\n",
    "from torch.utils.data import DataLoader\n",
    "from torchvision import datasets\n",
    "from torchvision.transforms import ToTensor, Lambda, Compose\n",
    "import matplotlib.pyplot as plt\n",
    "\n",
    "import pandas as pd\n",
    "import numpy as np"
   ]
  },
  {
   "cell_type": "code",
   "execution_count": 29,
   "id": "imperial-inventory",
   "metadata": {},
   "outputs": [],
   "source": [
    "# Download training data from open datasets.\n",
    "train_data = datasets.FashionMNIST(\n",
    "    root=\"data\",\n",
    "    train=True,\n",
    "    download=True,\n",
    "    transform=ToTensor(),\n",
    ")\n",
    "\n",
    "# Download test data from open datasets.\n",
    "test_data = datasets.FashionMNIST(\n",
    "    root=\"data\",\n",
    "    train=False,\n",
    "    download=True,\n",
    "    transform=ToTensor(),\n",
    ")"
   ]
  },
  {
   "cell_type": "code",
   "execution_count": 31,
   "id": "hidden-minute",
   "metadata": {},
   "outputs": [
    {
     "data": {
      "text/plain": [
       "torch.Size([60000, 28, 28])"
      ]
     },
     "execution_count": 31,
     "metadata": {},
     "output_type": "execute_result"
    }
   ],
   "source": [
    "train_data.data.shape"
   ]
  },
  {
   "cell_type": "code",
   "execution_count": 32,
   "id": "looking-invitation",
   "metadata": {},
   "outputs": [
    {
     "data": {
      "text/plain": [
       "<matplotlib.image.AxesImage at 0x12e7d5f98>"
      ]
     },
     "execution_count": 32,
     "metadata": {},
     "output_type": "execute_result"
    },
    {
     "data": {
      "image/png": "[encoded data removed]",
      "text/plain": [
       "<Figure size 432x288 with 1 Axes>"
      ]
     },
     "metadata": {
      "needs_background": "light"
     },
     "output_type": "display_data"
    }
   ],
   "source": [
    "plt.imshow(train_data.data[0])"
   ]
  },
  {
   "cell_type": "code",
   "execution_count": 33,
   "id": "brazilian-natural",
   "metadata": {},
   "outputs": [
    {
     "data": {
      "text/plain": [
       "torch.Size([28, 28])"
      ]
     },
     "execution_count": 33,
     "metadata": {},
     "output_type": "execute_result"
    }
   ],
   "source": [
    "test_data.data[0].shape"
   ]
  },
  {
   "cell_type": "code",
   "execution_count": 34,
   "id": "capital-shark",
   "metadata": {},
   "outputs": [],
   "source": [
    "train_dataloader = torch.utils.data.DataLoader(train_data, batch_size=64)\n",
    "test_dataloader = torch.utils.data.DataLoader(test_data, batch_size=64)"
   ]
  },
  {
   "cell_type": "code",
   "execution_count": 38,
   "id": "continuous-fields",
   "metadata": {},
   "outputs": [
    {
     "data": {
      "text/plain": [
       "torch.Size([64, 1, 28, 28])"
      ]
     },
     "execution_count": 38,
     "metadata": {},
     "output_type": "execute_result"
    }
   ],
   "source": [
    "train_dataloader.__iter__().next()[0].shape"
   ]
  },
  {
   "cell_type": "code",
   "execution_count": 42,
   "id": "severe-length",
   "metadata": {},
   "outputs": [
    {
     "name": "stdout",
     "output_type": "stream",
     "text": [
      "x [n, c, h, w]:  torch.Size([64, 1, 28, 28])\n",
      "y             :  torch.Size([64])\n"
     ]
    }
   ],
   "source": [
    "for x, y in train_dataloader:\n",
    "    print(\"x [n, c, h, w]: \", x.shape)\n",
    "    print(\"y             : \", y.shape)\n",
    "    break"
   ]
  },
  {
   "cell_type": "code",
   "execution_count": 43,
   "id": "exotic-start",
   "metadata": {},
   "outputs": [
    {
     "name": "stdout",
     "output_type": "stream",
     "text": [
      "Using cpu device\n"
     ]
    }
   ],
   "source": [
    "# Get cpu or gpu device for training.\n",
    "device = \"cuda\" if torch.cuda.is_available() else \"cpu\"\n",
    "print(\"Using {} device\".format(device))"
   ]
  },
  {
   "cell_type": "code",
   "execution_count": 44,
   "id": "graduate-uniform",
   "metadata": {},
   "outputs": [
    {
     "name": "stdout",
     "output_type": "stream",
     "text": [
      "HoNet(\n",
      "  (flatten): Flatten(start_dim=1, end_dim=-1)\n",
      "  (linear_relu_stack): Sequential(\n",
      "    (0): Linear(in_features=784, out_features=512, bias=True)\n",
      "    (1): ReLU()\n",
      "    (2): Linear(in_features=512, out_features=512, bias=True)\n",
      "    (3): ReLU()\n",
      "    (4): Linear(in_features=512, out_features=10, bias=True)\n",
      "    (5): ReLU()\n",
      "  )\n",
      ")\n"
     ]
    }
   ],
   "source": [
    "class HoNet(nn.Module):\n",
    "    def __init__(self):\n",
    "        super().__init__()\n",
    "        self.flatten = nn.Flatten()\n",
    "        self.linear_relu_stack = nn.Sequential(\n",
    "            nn.Linear(28*28, 512),\n",
    "            nn.ReLU(),\n",
    "            nn.Linear(512, 512),\n",
    "            nn.ReLU(),\n",
    "            nn.Linear(512, 10),\n",
    "            nn.ReLU(),\n",
    "        )\n",
    "    \n",
    "    def forward(self, x):\n",
    "        x = self.flatten(x)\n",
    "        logits = self.linear_relu_stack(x)\n",
    "        return logits\n",
    "    \n",
    "model = HoNet().to(device)\n",
    "print(model)"
   ]
  },
  {
   "cell_type": "code",
   "execution_count": 73,
   "id": "radical-novelty",
   "metadata": {},
   "outputs": [
    {
     "data": {
      "text/plain": [
       "Parameter containing:\n",
       "tensor([[ 0.0283, -0.0196, -0.0332,  ...,  0.0260, -0.0116,  0.0297],\n",
       "        [ 0.0314,  0.0234,  0.0128,  ...,  0.0206, -0.0316,  0.0309],\n",
       "        [-0.0308,  0.0112, -0.0189,  ..., -0.0005, -0.0244,  0.0025],\n",
       "        ...,\n",
       "        [-0.0193,  0.0138,  0.0274,  ...,  0.0143, -0.0053, -0.0139],\n",
       "        [-0.0170,  0.0050,  0.0244,  ..., -0.0083,  0.0042,  0.0339],\n",
       "        [ 0.0073, -0.0029,  0.0062,  ..., -0.0210,  0.0009, -0.0031]],\n",
       "       requires_grad=True)"
      ]
     },
     "execution_count": 73,
     "metadata": {},
     "output_type": "execute_result"
    }
   ],
   "source": [
    "model.parameters().__next__()"
   ]
  },
  {
   "cell_type": "code",
   "execution_count": 74,
   "id": "unlikely-mission",
   "metadata": {},
   "outputs": [],
   "source": [
    "loss_fn = nn.CrossEntropyLoss()\n",
    "optimizer = torch.optim.SGD(model.parameters(), lr=1e-3)  # why need the params?"
   ]
  },
  {
   "cell_type": "code",
   "execution_count": 75,
   "id": "fuzzy-stadium",
   "metadata": {},
   "outputs": [],
   "source": [
    "def train(dataloader, model, loss_fn, optimizer):\n",
    "    size = len(dataloader.dataset)\n",
    "    \n",
    "    for batch, (X, y) in enumerate(dataloader):\n",
    "        X, y = X.to(device), y.to(device)\n",
    "        \n",
    "        # loss\n",
    "        pred = model(X)\n",
    "        loss = loss_fn(pred, y)\n",
    "        \n",
    "        # backprop\n",
    "        optimizer.zero_grad()\n",
    "        loss.backward()  # backprop?\n",
    "        optimizer.step()\n",
    "        \n",
    "        if batch % 100 == 0:\n",
    "            loss, current = loss.item(), batch * len(X)\n",
    "            print(\"Loss: {:>7.4f}   [{:>5d}/{:>5d}]\".format(loss, current, size))"
   ]
  },
  {
   "cell_type": "markdown",
   "id": "weird-encounter",
   "metadata": {},
   "source": [
    "### Notes\n",
    "- `optimizer.zero_grad()` is needed to reset the accumulated gradients on the optimizer. This would allow easy stacking(?) of gradients.\n",
    "- Q. How does optimizer recieve backprops?"
   ]
  },
  {
   "cell_type": "code",
   "execution_count": 84,
   "id": "beginning-dream",
   "metadata": {},
   "outputs": [],
   "source": [
    "def test(dataloader, model):\n",
    "    size = len(dataloader.dataset)\n",
    "    model.eval()\n",
    "    test_loss, correct = 0, 0\n",
    "    with torch.no_grad():\n",
    "        for X, y in dataloader:\n",
    "            X, y = X.to(device), y.to(device)\n",
    "            pred = model(X)\n",
    "            test_loss += loss_fn(pred, y).item()\n",
    "            correct += (pred.argmax(1) == y).float().sum().item()\n",
    "    test_loss /= size\n",
    "    accuracy = correct / size\n",
    "    print(\"Test Error: Acc={:.2f}% Loss={:.4f}\".format(accuracy * 100, test_loss))"
   ]
  },
  {
   "cell_type": "code",
   "execution_count": 86,
   "id": "drawn-transportation",
   "metadata": {},
   "outputs": [
    {
     "name": "stdout",
     "output_type": "stream",
     "text": [
      "################################### Epoch 1 ####################################\n",
      "Loss:  1.6226   [    0/60000]\n",
      "Loss:  1.5371   [ 6400/60000]\n",
      "Loss:  1.4517   [12800/60000]\n",
      "Loss:  1.4688   [19200/60000]\n",
      "Loss:  1.3084   [25600/60000]\n",
      "Loss:  1.5072   [32000/60000]\n",
      "Loss:  1.4864   [38400/60000]\n",
      "Loss:  1.6641   [44800/60000]\n",
      "Loss:  1.5922   [51200/60000]\n",
      "Loss:  1.3298   [57600/60000]\n",
      "Test Error: Acc=47.0% Loss=0.0232\n",
      "################################### Epoch 2 ####################################\n",
      "Loss:  1.5916   [    0/60000]\n",
      "Loss:  1.5161   [ 6400/60000]\n",
      "Loss:  1.4216   [12800/60000]\n",
      "Loss:  1.4530   [19200/60000]\n",
      "Loss:  1.2895   [25600/60000]\n",
      "Loss:  1.4903   [32000/60000]\n",
      "Loss:  1.4695   [38400/60000]\n",
      "Loss:  1.6523   [44800/60000]\n",
      "Loss:  1.5670   [51200/60000]\n",
      "Loss:  1.3156   [57600/60000]\n",
      "Test Error: Acc=47.6% Loss=0.0229\n",
      "################################### Epoch 3 ####################################\n",
      "Loss:  1.5665   [    0/60000]\n",
      "Loss:  1.4985   [ 6400/60000]\n",
      "Loss:  1.3956   [12800/60000]\n",
      "Loss:  1.4392   [19200/60000]\n",
      "Loss:  1.2744   [25600/60000]\n",
      "Loss:  1.4759   [32000/60000]\n",
      "Loss:  1.4544   [38400/60000]\n",
      "Loss:  1.6426   [44800/60000]\n",
      "Loss:  1.5457   [51200/60000]\n",
      "Loss:  1.3022   [57600/60000]\n",
      "Test Error: Acc=48.2% Loss=0.0227\n",
      "################################### Epoch 4 ####################################\n",
      "Loss:  1.5445   [    0/60000]\n",
      "Loss:  1.4824   [ 6400/60000]\n",
      "Loss:  1.3731   [12800/60000]\n",
      "Loss:  1.4269   [19200/60000]\n",
      "Loss:  1.2625   [25600/60000]\n",
      "Loss:  1.4643   [32000/60000]\n",
      "Loss:  1.4412   [38400/60000]\n",
      "Loss:  1.6349   [44800/60000]\n",
      "Loss:  1.5278   [51200/60000]\n",
      "Loss:  1.2908   [57600/60000]\n",
      "Test Error: Acc=48.7% Loss=0.0225\n",
      "################################### Epoch 5 ####################################\n",
      "Loss:  1.5256   [    0/60000]\n",
      "Loss:  1.4686   [ 6400/60000]\n",
      "Loss:  1.3550   [12800/60000]\n",
      "Loss:  1.4160   [19200/60000]\n",
      "Loss:  1.2529   [25600/60000]\n",
      "Loss:  1.4537   [32000/60000]\n",
      "Loss:  1.4286   [38400/60000]\n",
      "Loss:  1.6276   [44800/60000]\n",
      "Loss:  1.5120   [51200/60000]\n",
      "Loss:  1.2813   [57600/60000]\n",
      "Test Error: Acc=49.1% Loss=0.0223\n",
      "################################### Epoch 6 ####################################\n",
      "Loss:  1.5084   [    0/60000]\n",
      "Loss:  1.4562   [ 6400/60000]\n",
      "Loss:  1.3395   [12800/60000]\n",
      "Loss:  1.4063   [19200/60000]\n",
      "Loss:  1.2447   [25600/60000]\n",
      "Loss:  1.4442   [32000/60000]\n",
      "Loss:  1.4167   [38400/60000]\n",
      "Loss:  1.6210   [44800/60000]\n",
      "Loss:  1.4979   [51200/60000]\n",
      "Loss:  1.2726   [57600/60000]\n",
      "Test Error: Acc=49.8% Loss=0.0221\n",
      "################################### Epoch 7 ####################################\n",
      "Loss:  1.4930   [    0/60000]\n",
      "Loss:  1.4450   [ 6400/60000]\n",
      "Loss:  1.3261   [12800/60000]\n",
      "Loss:  1.3973   [19200/60000]\n",
      "Loss:  1.2378   [25600/60000]\n",
      "Loss:  1.4356   [32000/60000]\n",
      "Loss:  1.4051   [38400/60000]\n",
      "Loss:  1.6147   [44800/60000]\n",
      "Loss:  1.4858   [51200/60000]\n",
      "Loss:  1.2647   [57600/60000]\n",
      "Test Error: Acc=50.3% Loss=0.0220\n",
      "################################### Epoch 8 ####################################\n",
      "Loss:  1.4787   [    0/60000]\n",
      "Loss:  1.4346   [ 6400/60000]\n",
      "Loss:  1.3142   [12800/60000]\n",
      "Loss:  1.3889   [19200/60000]\n",
      "Loss:  1.2318   [25600/60000]\n",
      "Loss:  1.4280   [32000/60000]\n",
      "Loss:  1.3944   [38400/60000]\n",
      "Loss:  1.6086   [44800/60000]\n",
      "Loss:  1.4753   [51200/60000]\n",
      "Loss:  1.2569   [57600/60000]\n",
      "Test Error: Acc=50.9% Loss=0.0219\n",
      "################################### Epoch 9 ####################################\n",
      "Loss:  1.4659   [    0/60000]\n",
      "Loss:  1.4252   [ 6400/60000]\n",
      "Loss:  1.3034   [12800/60000]\n",
      "Loss:  1.3808   [19200/60000]\n",
      "Loss:  1.2264   [25600/60000]\n",
      "Loss:  1.4211   [32000/60000]\n",
      "Loss:  1.3844   [38400/60000]\n",
      "Loss:  1.6035   [44800/60000]\n",
      "Loss:  1.4664   [51200/60000]\n",
      "Loss:  1.2499   [57600/60000]\n",
      "Test Error: Acc=51.3% Loss=0.0217\n",
      "################################### Epoch 10 ###################################\n",
      "Loss:  1.4543   [    0/60000]\n",
      "Loss:  1.4162   [ 6400/60000]\n",
      "Loss:  1.2939   [12800/60000]\n",
      "Loss:  1.3734   [19200/60000]\n",
      "Loss:  1.2219   [25600/60000]\n",
      "Loss:  1.4154   [32000/60000]\n",
      "Loss:  1.3750   [38400/60000]\n",
      "Loss:  1.5987   [44800/60000]\n",
      "Loss:  1.4588   [51200/60000]\n",
      "Loss:  1.2435   [57600/60000]\n",
      "Test Error: Acc=51.7% Loss=0.0216\n",
      "Done\n"
     ]
    }
   ],
   "source": [
    "epochs = 10\n",
    "for i in range(epochs):\n",
    "    print(\" Epoch {:d} \".format(i + 1).center(80, \"#\"))\n",
    "    train(train_dataloader, model, loss_fn, optimizer)\n",
    "    test(test_dataloader, model)\n",
    "print(\"Done\")"
   ]
  },
  {
   "cell_type": "code",
   "execution_count": 87,
   "id": "dying-pottery",
   "metadata": {},
   "outputs": [
    {
     "name": "stdout",
     "output_type": "stream",
     "text": [
      "Save PyTorch model state to model.pth\n"
     ]
    }
   ],
   "source": [
    "torch.save(model.state_dict(), \"model.pth\")\n",
    "print(\"Save PyTorch model state to model.pth\")"
   ]
  },
  {
   "cell_type": "code",
   "execution_count": 88,
   "id": "wound-divide",
   "metadata": {},
   "outputs": [
    {
     "data": {
      "text/plain": [
       "<All keys matched successfully>"
      ]
     },
     "execution_count": 88,
     "metadata": {},
     "output_type": "execute_result"
    }
   ],
   "source": [
    "model = HoNet()\n",
    "model.load_state_dict(torch.load(\"model.pth\"))  # wow!"
   ]
  },
  {
   "cell_type": "code",
   "execution_count": 90,
   "id": "fluid-magazine",
   "metadata": {},
   "outputs": [],
   "source": [
    "d = torch.load(\"model.pth\")"
   ]
  },
  {
   "cell_type": "code",
   "execution_count": 89,
   "id": "heavy-robertson",
   "metadata": {},
   "outputs": [
    {
     "name": "stdout",
     "output_type": "stream",
     "text": [
      "Test Error: Acc=51.7% Loss=0.0216\n"
     ]
    }
   ],
   "source": [
    "test(test_dataloader, model)"
   ]
  },
  {
   "cell_type": "code",
   "execution_count": 103,
   "id": "moral-bench",
   "metadata": {},
   "outputs": [
    {
     "name": "stdout",
     "output_type": "stream",
     "text": [
      "Predicted: \"Shirt\", Actual: \"Shirt\"\n"
     ]
    },
    {
     "data": {
      "image/png": "[encoded data removed]",
      "text/plain": [
       "<Figure size 432x288 with 1 Axes>"
      ]
     },
     "metadata": {
      "needs_background": "light"
     },
     "output_type": "display_data"
    }
   ],
   "source": [
    "classes = [\n",
    "    \"T-shirt/top\",\n",
    "    \"Trouser\",\n",
    "    \"Pullover\",\n",
    "    \"Dress\",\n",
    "    \"Coat\",\n",
    "    \"Sandal\",\n",
    "    \"Shirt\",\n",
    "    \"Sneaker\",\n",
    "    \"Bag\",\n",
    "    \"Ankle boot\",\n",
    "]\n",
    "\n",
    "model.eval()\n",
    "index = 4\n",
    "x, y = test_data[index][0], test_data[index][1]\n",
    "with torch.no_grad():\n",
    "    pred = model(x)\n",
    "    predicted, actual = classes[pred[0].argmax(0)], classes[y]\n",
    "    print(f'Predicted: \"{predicted}\", Actual: \"{actual}\"')\n",
    "    plt.imshow(x[0])"
   ]
  }
 ],
 "metadata": {
  "kernelspec": {
   "display_name": "Python 3",
   "language": "python",
   "name": "python3"
  },
  "language_info": {
   "codemirror_mode": {
    "name": "ipython",
    "version": 3
   },
   "file_extension": ".py",
   "mimetype": "text/x-python",
   "name": "python",
   "nbconvert_exporter": "python",
   "pygments_lexer": "ipython3",
   "version": "3.7.3"
  }
 },
 "nbformat": 4,
 "nbformat_minor": 5
}
